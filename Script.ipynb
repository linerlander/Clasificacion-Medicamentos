{
 "cells": [
  {
   "cell_type": "markdown",
   "metadata": {},
   "source": [
    "# <p style=\"background-color:#0F83D6;font-family:newtimeroman;color:#ffffff;font-size:150%;text-align:center;border-radius:10px 10px;\">💊 Clasificación De Medicamentos 💊</p>\n",
    "---"
   ]
  }
 ],
 "metadata": {
  "language_info": {
   "name": "python"
  }
 },
 "nbformat": 4,
 "nbformat_minor": 2
}
