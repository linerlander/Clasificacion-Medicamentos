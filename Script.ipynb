{
 "cells": [
  {
   "cell_type": "markdown",
   "metadata": {},
   "source": [
    "# <p style=\"background-color:#0F83D6;font-family:newtimeroman;color:#ffffff;font-size:150%;text-align:center;border-radius:10px 10px;\">💊 Clasificación De Medicamentos 💊</p>\n",
    "---"
   ]
  },
  {
   "cell_type": "markdown",
   "metadata": {},
   "source": [
    "[![Clasificaci-n-Medicamentos.png](https://i.postimg.cc/nh5Sjsj0/Clasificaci-n-Medicamentos.png)](https://postimg.cc/nX4GNh1D)"
   ]
  },
  {
   "cell_type": "markdown",
   "metadata": {},
   "source": [
    "<div class=\"alert alert-block alert-info\" style=\"margin-top: 20px\">\n",
    "\n",
    "<font size = 3>\n",
    "    \n",
    "1. <a href=\"#sec_1\">Introducción</a>  \n",
    "2. <a href=\"#sec_2\">Exploración del set de datos</a>  \n",
    "3. <a href=\"#sec_3\">Selección de Muestras</a>  \n",
    "4. <a href=\"#sec_4\">Pre-selección de variables</a>  \n",
    "5. <a href=\"#sec_5\">Preparación de datos</a>\n",
    "6. <a href=\"#sec_6\">Modelo de Clasificación</a>  \n",
    "7. <a href=\"#sec_7\">Métricas de desempeño</a> \n",
    "8. <a href=\"#sec_8\">Conclusiones y Recomendaciones</a>     \n",
    "\n",
    " \n",
    "</font>\n",
    "</div>"
   ]
  },
  {
   "cell_type": "markdown",
   "metadata": {},
   "source": [
    "<a id='sec_1'></a>  \n",
    "## `1. Introducción`  \n",
    "\n",
    "`💊 Explorando la Clasificación de Medicamentos 💊`\n",
    "\n",
    "En el ámbito de la salud, la correcta clasificación de los medicamentos y su relación con diversos factores clínicos es esencial para un tratamiento efectivo. 🩺 Este proyecto se adentra en un conjunto de datos que contiene información clave para la clasificación de medicamentos en función de características como la **edad** del paciente 👶👵, el **sexo** 👨👩, la **presión arterial** (BP) 💓, los niveles de **colesterol** 🧴, la relación **Na/K** 🧪, y el **tipo de medicamento** (Drug) 💊.\n",
    "\n",
    "Con esta valiosa información, buscamos optimizar la clasificación de medicamentos y ofrecer una herramienta poderosa para personalizar tratamientos, mejorando la eficacia clínica y reduciendo los riesgos asociados. 💡💊\n",
    "\n",
    "\n",
    "\n",
    "**1.2. Recursos disponibles**\n",
    "- [Set de datos Medicamentos](data/drug200.csv)"
   ]
  }
 ],
 "metadata": {
  "kernelspec": {
   "display_name": "Python 3",
   "language": "python",
   "name": "python3"
  },
  "language_info": {
   "codemirror_mode": {
    "name": "ipython",
    "version": 3
   },
   "file_extension": ".py",
   "mimetype": "text/x-python",
   "name": "python",
   "nbconvert_exporter": "python",
   "pygments_lexer": "ipython3",
   "version": "3.11.9"
  }
 },
 "nbformat": 4,
 "nbformat_minor": 2
}
