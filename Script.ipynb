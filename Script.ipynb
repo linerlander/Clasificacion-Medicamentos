{
 "cells": [
  {
   "cell_type": "markdown",
   "metadata": {},
   "source": [
    "# <p style=\"background-color:#0F83D6;font-family:newtimeroman;color:#ffffff;font-size:150%;text-align:center;border-radius:10px 10px;\">💊 Clasificación De Medicamentos 💊</p>\n",
    "---"
   ]
  },
  {
   "cell_type": "markdown",
   "metadata": {},
   "source": [
    "[![Clasificaci-n-Medicamentos.png](https://i.postimg.cc/nh5Sjsj0/Clasificaci-n-Medicamentos.png)](https://postimg.cc/nX4GNh1D)"
   ]
  }
 ],
 "metadata": {
  "language_info": {
   "name": "python"
  }
 },
 "nbformat": 4,
 "nbformat_minor": 2
}
